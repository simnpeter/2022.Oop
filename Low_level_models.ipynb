{
  "nbformat": 4,
  "nbformat_minor": 0,
  "metadata": {
    "colab": {
      "provenance": [],
      "gpuType": "T4",
      "authorship_tag": "ABX9TyNeJCvykEHPmw6NAJFIuAgt",
      "include_colab_link": true
    },
    "kernelspec": {
      "name": "python3",
      "display_name": "Python 3"
    },
    "language_info": {
      "name": "python"
    }
  },
  "cells": [
    {
      "cell_type": "markdown",
      "metadata": {
        "id": "view-in-github",
        "colab_type": "text"
      },
      "source": [
        "<a href=\"https://colab.research.google.com/github/simnpeter/2022.Oop/blob/master/Low_level_models.ipynb\" target=\"_parent\"><img src=\"https://colab.research.google.com/assets/colab-badge.svg\" alt=\"Open In Colab\"/></a>"
      ]
    },
    {
      "cell_type": "code",
      "execution_count": null,
      "metadata": {
        "colab": {
          "base_uri": "https://localhost:8080/"
        },
        "id": "ZAP1_K0MxnOE",
        "outputId": "26dc2fdb-7472-4f72-f5de-ac021682fe54"
      },
      "outputs": [
        {
          "output_type": "stream",
          "name": "stdout",
          "text": [
            "Mounted at /content/drive\n"
          ]
        }
      ],
      "source": [
        "from sklearn.model_selection import train_test_split\n",
        "from sklearn.ensemble import RandomForestClassifier\n",
        "from sklearn.metrics import accuracy_score\n",
        "from sklearn.model_selection import GridSearchCV\n",
        "from sklearn.neural_network import MLPClassifier\n",
        "from sklearn.svm import SVC\n",
        "from sklearn.feature_extraction.text import CountVectorizer\n",
        "import pandas as pd\n",
        "import pickle\n",
        "from google.colab import drive\n",
        "drive.mount('/content/drive')"
      ]
    },
    {
      "cell_type": "code",
      "source": [
        "path='/content/drive/My Drive/Colab Notebooks/dataset.csv'\n",
        "\n",
        "def custom_parser(line):\n",
        "    parts = line.split(\";\")  # Felosztjuk a sort pontosvessző mentén\n",
        "    # Az első elem az összes többi elem\n",
        "    username = parts[0] if len(parts) == 1 else \";\".join(parts[:-1])\n",
        "    label = int(parts[-1])  # Utolsó elem a címke, ami számmá konvertálható\n",
        "    return username, label\n",
        "\n",
        "data = []\n",
        "with open(path, \"r\") as file:\n",
        "  for line in file:\n",
        "        username, label = custom_parser(line.strip())\n",
        "        data.append((username, label))\n",
        "\n",
        "        # Az adatok pandas DataFrame-be helyezése\n",
        "df = pd.DataFrame(data, columns=[\"Username\", \"Label\"])\n",
        "\n",
        "label_counts = df['Label'].value_counts()\n",
        "\n",
        "grouped = df.groupby('Label')\n",
        "\n",
        "balanced_df = grouped.apply(lambda x: x.sample(n=label_counts.min()))\n",
        "\n",
        "balanced_df = balanced_df.reset_index(drop=True)\n",
        "\n",
        "# 2. Felosztás X és y változókra\n",
        "X = df['Username']\n",
        "y = df['Label']\n",
        "\n",
        "X_balanced = balanced_df['Username']\n",
        "y_balanced = balanced_df['Label']\n",
        "\n",
        "\n",
        "vectorizer = CountVectorizer()\n",
        "X = vectorizer.fit_transform(X)\n",
        "X_balanced = vectorizer.fit_transform(X_balanced)\n",
        "\n",
        "\n",
        "# 3. Tanító- és tesztadatokra felosztás\n",
        "X_train, X_test, y_train, y_test = train_test_split(X, y, test_size=0.2, random_state=42)\n",
        "X_balanced_train, X_balanced_test, y_balanced_train, y_balanced_test = train_test_split(X_balanced, y_balanced, test_size=0.2, random_state=42)\n",
        "\n"
      ],
      "metadata": {
        "id": "O63CZMcZzShQ"
      },
      "execution_count": null,
      "outputs": []
    },
    {
      "cell_type": "code",
      "source": [
        "mlp_classifier = MLPClassifier()\n",
        "\n",
        "# Define the grid of hyperparameters to try out\n",
        "param_grid = {\n",
        "    'hidden_layer_sizes': [(50,), (100,), (50, 50), (100, 100)],\n",
        "    'activation': ['relu', 'tanh'],\n",
        "    'solver': ['sgd', 'adam'],\n",
        "    'alpha': [0.0001, 0.001, 0.01],\n",
        "}\n",
        "\n",
        "# Create the GridSearchCV model\n",
        "grid_search = GridSearchCV(estimator=mlp_classifier, param_grid=param_grid, cv=5, scoring='accuracy')\n",
        "\n",
        "# Train the model and search for the best hyperparameters\n",
        "grid_search.fit(X, y)\n",
        "\n",
        "# Get the best model and best hyperparameters\n",
        "best_model = grid_search.best_estimator_\n",
        "best_params = grid_search.best_params_\n",
        "best_score = grid_search.best_score_\n",
        "\n",
        "print(\"Best model:\", best_model)\n",
        "print(\"Best parameters:\", best_params)\n",
        "print(\"Best accuracy score:\", best_score)"
      ],
      "metadata": {
        "id": "TcS_au0tY5Bx"
      },
      "execution_count": null,
      "outputs": []
    },
    {
      "cell_type": "code",
      "source": [
        "from sklearn.metrics import accuracy_score, confusion_matrix, classification_report\n",
        "\n",
        "def print_score(clf, X_train, y_train, X_test, y_test, train=True):\n",
        "    if train:\n",
        "        pred = clf.predict(X_train)\n",
        "        clf_report = pd.DataFrame(classification_report(y_train, pred, output_dict=True))\n",
        "        print(\"Train Result:\\n================================================\")\n",
        "        print(f\"Accuracy Score: {accuracy_score(y_train, pred) * 100:.2f}%\")\n",
        "        print(\"_______________________________________________\")\n",
        "        print(f\"CLASSIFICATION REPORT:\\n{clf_report}\")\n",
        "        print(\"_______________________________________________\")\n",
        "        print(f\"Confusion Matrix: \\n {confusion_matrix(y_train, pred)}\\n\")\n",
        "\n",
        "    elif train==False:\n",
        "        pred = clf.predict(X_test)\n",
        "        clf_report = pd.DataFrame(classification_report(y_test, pred, output_dict=True))\n",
        "        print(\"Test Result:\\n================================================\")\n",
        "        print(f\"Accuracy Score: {accuracy_score(y_test, pred) * 100:.2f}%\")\n",
        "        print(\"_______________________________________________\")\n",
        "        print(f\"CLASSIFICATION REPORT:\\n{clf_report}\")\n",
        "        print(\"_______________________________________________\")\n",
        "        print(f\"Confusion Matrix: \\n {confusion_matrix(y_test, pred)}\\n\")"
      ],
      "metadata": {
        "id": "Nb6jCMtaQNMJ"
      },
      "execution_count": null,
      "outputs": []
    },
    {
      "cell_type": "code",
      "source": [
        "svm_classifier = SVC(C=0.1, kernel='linear')\n",
        "svm_classifier.fit(X_train, y_train)\n",
        "\n",
        "# 4. SVM modell kiértékelése\n",
        "\n",
        "print_score(svm_classifier, X_train, y_train, X_test, y_test, train=True)\n",
        "print_score(svm_classifier, X_train, y_train, X_test, y_test, train=False)\n"
      ],
      "metadata": {
        "colab": {
          "base_uri": "https://localhost:8080/"
        },
        "id": "xtugCvWH7grW",
        "outputId": "c279b1c4-695e-4c7c-ebe7-3407455444bb"
      },
      "execution_count": null,
      "outputs": [
        {
          "output_type": "stream",
          "name": "stderr",
          "text": [
            "/usr/local/lib/python3.10/dist-packages/sklearn/metrics/_classification.py:1344: UndefinedMetricWarning: Precision and F-score are ill-defined and being set to 0.0 in labels with no predicted samples. Use `zero_division` parameter to control this behavior.\n",
            "  _warn_prf(average, modifier, msg_start, len(result))\n",
            "/usr/local/lib/python3.10/dist-packages/sklearn/metrics/_classification.py:1344: UndefinedMetricWarning: Precision and F-score are ill-defined and being set to 0.0 in labels with no predicted samples. Use `zero_division` parameter to control this behavior.\n",
            "  _warn_prf(average, modifier, msg_start, len(result))\n",
            "/usr/local/lib/python3.10/dist-packages/sklearn/metrics/_classification.py:1344: UndefinedMetricWarning: Precision and F-score are ill-defined and being set to 0.0 in labels with no predicted samples. Use `zero_division` parameter to control this behavior.\n",
            "  _warn_prf(average, modifier, msg_start, len(result))\n"
          ]
        },
        {
          "output_type": "stream",
          "name": "stdout",
          "text": [
            "Train Result:\n",
            "================================================\n",
            "Accuracy Score: 89.74%\n",
            "_______________________________________________\n",
            "CLASSIFICATION REPORT:\n",
            "                0            1  accuracy     macro avg  weighted avg\n",
            "precision     0.0     0.897446  0.897446      0.448723      0.805409\n",
            "recall        0.0     1.000000  0.897446      0.500000      0.897446\n",
            "f1-score      0.0     0.945952  0.897446      0.472976      0.848940\n",
            "support    1044.0  9136.000000  0.897446  10180.000000  10180.000000\n",
            "_______________________________________________\n",
            "Confusion Matrix: \n",
            " [[   0 1044]\n",
            " [   0 9136]]\n",
            "\n",
            "Test Result:\n",
            "================================================\n",
            "Accuracy Score: 89.98%\n",
            "_______________________________________________\n",
            "CLASSIFICATION REPORT:\n",
            "               0            1  accuracy    macro avg  weighted avg\n",
            "precision    0.0     0.899843  0.899843     0.449921      0.809717\n",
            "recall       0.0     1.000000  0.899843     0.500000      0.899843\n",
            "f1-score     0.0     0.947281  0.899843     0.473641      0.852404\n",
            "support    255.0  2291.000000  0.899843  2546.000000   2546.000000\n",
            "_______________________________________________\n",
            "Confusion Matrix: \n",
            " [[   0  255]\n",
            " [   0 2291]]\n",
            "\n"
          ]
        },
        {
          "output_type": "stream",
          "name": "stderr",
          "text": [
            "/usr/local/lib/python3.10/dist-packages/sklearn/metrics/_classification.py:1344: UndefinedMetricWarning: Precision and F-score are ill-defined and being set to 0.0 in labels with no predicted samples. Use `zero_division` parameter to control this behavior.\n",
            "  _warn_prf(average, modifier, msg_start, len(result))\n",
            "/usr/local/lib/python3.10/dist-packages/sklearn/metrics/_classification.py:1344: UndefinedMetricWarning: Precision and F-score are ill-defined and being set to 0.0 in labels with no predicted samples. Use `zero_division` parameter to control this behavior.\n",
            "  _warn_prf(average, modifier, msg_start, len(result))\n",
            "/usr/local/lib/python3.10/dist-packages/sklearn/metrics/_classification.py:1344: UndefinedMetricWarning: Precision and F-score are ill-defined and being set to 0.0 in labels with no predicted samples. Use `zero_division` parameter to control this behavior.\n",
            "  _warn_prf(average, modifier, msg_start, len(result))\n"
          ]
        }
      ]
    },
    {
      "cell_type": "code",
      "source": [
        "svm_balanced_classifier = SVC(C=0.1, kernel='linear')\n",
        "svm_balanced_classifier.fit(X_balanced_train, y_balanced_train)\n",
        "\n",
        "# 4. SVM modell kiértékelése\n",
        "\n",
        "print_score(svm_balanced_classifier, X_balanced_train, y_balanced_train, X_balanced_test, y_balanced_test, train=True)\n",
        "print_score(svm_balanced_classifier, X_balanced_train, y_balanced_train, X_balanced_test, y_balanced_test, train=False)"
      ],
      "metadata": {
        "id": "v4qPes8ewWPl"
      },
      "execution_count": null,
      "outputs": []
    },
    {
      "cell_type": "code",
      "source": [
        "rf_classifier = RandomForestClassifier(max_depth=None, min_samples_leaf=4, min_samples_split=2, n_estimators=100)\n",
        "rf_classifier.fit(X_train, y_train)\n",
        "\n",
        "print_score(rf_classifier, X_train, y_train, X_test, y_test, train=True)\n",
        "print_score(rf_classifier, X_train, y_train, X_test, y_test, train=False)"
      ],
      "metadata": {
        "colab": {
          "base_uri": "https://localhost:8080/"
        },
        "id": "EGMRebDmKiHg",
        "outputId": "9eeaf05d-adb4-4acc-8349-0837c38496fc"
      },
      "execution_count": null,
      "outputs": [
        {
          "output_type": "stream",
          "name": "stdout",
          "text": [
            "Train Result:\n",
            "================================================\n",
            "Accuracy Score: 89.74%\n",
            "_______________________________________________\n",
            "CLASSIFICATION REPORT:\n",
            "                0            1  accuracy     macro avg  weighted avg\n",
            "precision     0.0     0.897446  0.897446      0.448723      0.805409\n",
            "recall        0.0     1.000000  0.897446      0.500000      0.897446\n",
            "f1-score      0.0     0.945952  0.897446      0.472976      0.848940\n",
            "support    1044.0  9136.000000  0.897446  10180.000000  10180.000000\n",
            "_______________________________________________\n",
            "Confusion Matrix: \n",
            " [[   0 1044]\n",
            " [   0 9136]]\n",
            "\n",
            "Test Result:\n",
            "================================================\n",
            "Accuracy Score: 89.98%\n",
            "_______________________________________________\n",
            "CLASSIFICATION REPORT:\n",
            "               0            1  accuracy    macro avg  weighted avg\n",
            "precision    0.0     0.899843  0.899843     0.449921      0.809717\n",
            "recall       0.0     1.000000  0.899843     0.500000      0.899843\n",
            "f1-score     0.0     0.947281  0.899843     0.473641      0.852404\n",
            "support    255.0  2291.000000  0.899843  2546.000000   2546.000000\n",
            "_______________________________________________\n",
            "Confusion Matrix: \n",
            " [[   0  255]\n",
            " [   0 2291]]\n",
            "\n"
          ]
        },
        {
          "output_type": "stream",
          "name": "stderr",
          "text": [
            "/usr/local/lib/python3.10/dist-packages/sklearn/metrics/_classification.py:1344: UndefinedMetricWarning: Precision and F-score are ill-defined and being set to 0.0 in labels with no predicted samples. Use `zero_division` parameter to control this behavior.\n",
            "  _warn_prf(average, modifier, msg_start, len(result))\n",
            "/usr/local/lib/python3.10/dist-packages/sklearn/metrics/_classification.py:1344: UndefinedMetricWarning: Precision and F-score are ill-defined and being set to 0.0 in labels with no predicted samples. Use `zero_division` parameter to control this behavior.\n",
            "  _warn_prf(average, modifier, msg_start, len(result))\n",
            "/usr/local/lib/python3.10/dist-packages/sklearn/metrics/_classification.py:1344: UndefinedMetricWarning: Precision and F-score are ill-defined and being set to 0.0 in labels with no predicted samples. Use `zero_division` parameter to control this behavior.\n",
            "  _warn_prf(average, modifier, msg_start, len(result))\n",
            "/usr/local/lib/python3.10/dist-packages/sklearn/metrics/_classification.py:1344: UndefinedMetricWarning: Precision and F-score are ill-defined and being set to 0.0 in labels with no predicted samples. Use `zero_division` parameter to control this behavior.\n",
            "  _warn_prf(average, modifier, msg_start, len(result))\n",
            "/usr/local/lib/python3.10/dist-packages/sklearn/metrics/_classification.py:1344: UndefinedMetricWarning: Precision and F-score are ill-defined and being set to 0.0 in labels with no predicted samples. Use `zero_division` parameter to control this behavior.\n",
            "  _warn_prf(average, modifier, msg_start, len(result))\n",
            "/usr/local/lib/python3.10/dist-packages/sklearn/metrics/_classification.py:1344: UndefinedMetricWarning: Precision and F-score are ill-defined and being set to 0.0 in labels with no predicted samples. Use `zero_division` parameter to control this behavior.\n",
            "  _warn_prf(average, modifier, msg_start, len(result))\n"
          ]
        }
      ]
    },
    {
      "cell_type": "code",
      "source": [
        "rf_balanced_classifier = RandomForestClassifier(max_depth=None, min_samples_leaf=4, min_samples_split=2, n_estimators=100)\n",
        "rf_balanced_classifier.fit(X_balanced_train, y_balanced_train)\n",
        "\n",
        "print_score(rf_balanced_classifier, X_balanced_train, y_balanced_train, X_balanced_test, y_balanced_test, train=True)\n",
        "print_score(rf_balanced_classifier, X_balanced_train, y_balanced_train, X_balanced_test, y_balanced_test, train=False)"
      ],
      "metadata": {
        "id": "yBezTEMJwoeW"
      },
      "execution_count": null,
      "outputs": []
    },
    {
      "cell_type": "code",
      "source": [
        "mlp_classifier = MLPClassifier()\n",
        "mlp_classifier.fit(X_train, y_train)\n",
        "\n",
        "print_score(rf_classifier, X_train, y_train, X_test, y_test, train=True)\n",
        "print_score(rf_classifier, X_train, y_train, X_test, y_test, train=False)"
      ],
      "metadata": {
        "colab": {
          "base_uri": "https://localhost:8080/"
        },
        "id": "Hiwz-6kBjD8I",
        "outputId": "0f372c2e-349f-49ed-cc7a-574aa573d739"
      },
      "execution_count": null,
      "outputs": [
        {
          "output_type": "stream",
          "name": "stdout",
          "text": [
            "Best model: SVC(C=0.1, kernel='linear')\n",
            "Best parameters: {'C': 0.1, 'kernel': 'linear'}\n",
            "Best accuracy score: 0.897925510489122\n"
          ]
        }
      ]
    },
    {
      "cell_type": "code",
      "source": [
        "mlp_balanced_classifier = MLPClassifier()\n",
        "mlp_balanced_classifier.fit(X_balanced_train, y_balanced_train)\n",
        "\n",
        "print_score(rf_balanced_classifier, X_balanced_train, y_balanced_train, X_balanced_test, y_balanced_test, train=True)\n",
        "print_score(rf_balanced_classifier, X_balanced_train, y_balanced_train, X_balanced_test, y_balanced_test, train=False)"
      ],
      "metadata": {
        "id": "yxesbxqBxpa8"
      },
      "execution_count": null,
      "outputs": []
    }
  ]
}